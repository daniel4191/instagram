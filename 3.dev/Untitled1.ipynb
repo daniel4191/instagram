{
 "cells": [
  {
   "cell_type": "code",
   "execution_count": 1,
   "id": "676719bf",
   "metadata": {},
   "outputs": [],
   "source": [
    "import os\n",
    "os.environ[\"DJANGO_SETTINGS_MODULE\"] = 'askcompany.settings'\n",
    "os.environ[\"DJANGO_ALLOW_ASYNC_UNSAFE\"] = 'true'\n",
    "\n",
    "import django\n",
    "django.setup()"
   ]
  },
  {
   "cell_type": "code",
   "execution_count": 2,
   "id": "4f8aa208",
   "metadata": {},
   "outputs": [],
   "source": [
    "from instagram.models import Post, Comment"
   ]
  },
  {
   "cell_type": "code",
   "execution_count": 4,
   "id": "3e869dc9",
   "metadata": {},
   "outputs": [
    {
     "data": {
      "text/plain": [
       "<QuerySet []>"
      ]
     },
     "execution_count": 4,
     "metadata": {},
     "output_type": "execute_result"
    }
   ],
   "source": [
    "Comment.objects.all()"
   ]
  },
  {
   "cell_type": "code",
   "execution_count": 6,
   "id": "c083bcff",
   "metadata": {},
   "outputs": [],
   "source": [
    "comment = Comment.objects.all().first()"
   ]
  },
  {
   "cell_type": "code",
   "execution_count": 7,
   "id": "b2d2df18",
   "metadata": {},
   "outputs": [
    {
     "data": {
      "text/plain": [
       "<Post: first message>"
      ]
     },
     "execution_count": 7,
     "metadata": {},
     "output_type": "execute_result"
    }
   ],
   "source": [
    "# Post.objects.get(pk=comment.post_id)에 해당하는 기능이다.\n",
    "comment.post"
   ]
  },
  {
   "cell_type": "code",
   "execution_count": 8,
   "id": "d57f2b80",
   "metadata": {},
   "outputs": [
    {
     "data": {
      "text/plain": [
       "<Post: first message>"
      ]
     },
     "execution_count": 8,
     "metadata": {},
     "output_type": "execute_result"
    }
   ],
   "source": []
  },
  {
   "cell_type": "code",
   "execution_count": 11,
   "id": "bc00061f",
   "metadata": {},
   "outputs": [
    {
     "data": {
      "text/plain": [
       "<QuerySet [<Comment: Comment object (1)>, <Comment: Comment object (2)>]>"
      ]
     },
     "execution_count": 11,
     "metadata": {},
     "output_type": "execute_result"
    }
   ],
   "source": [
    "Comment.objects.filter(post_id = 1)"
   ]
  },
  {
   "cell_type": "code",
   "execution_count": 12,
   "id": "c43cb193",
   "metadata": {},
   "outputs": [
    {
     "data": {
      "text/plain": [
       "<QuerySet [<Comment: Comment object (1)>, <Comment: Comment object (2)>]>"
      ]
     },
     "execution_count": 12,
     "metadata": {},
     "output_type": "execute_result"
    }
   ],
   "source": [
    "# 위와 아래의 기능은 같다.\n",
    "Comment.objects.filter(post__id = 1)\n",
    "Comment.objects.filter(post__id = 1)"
   ]
  },
  {
   "cell_type": "code",
   "execution_count": 13,
   "id": "b66a7181",
   "metadata": {},
   "outputs": [
    {
     "data": {
      "text/plain": [
       "<QuerySet []>"
      ]
     },
     "execution_count": 13,
     "metadata": {},
     "output_type": "execute_result"
    }
   ],
   "source": [
    "# 하지만 보다 나은 기능은 Post.objects.first()를 변수에 담아서 사용하는 것이다.\n",
    "\n",
    "post = Post.objects.first()\n",
    "\n",
    "Comment.objects.filter(post=post)"
   ]
  },
  {
   "cell_type": "code",
   "execution_count": 15,
   "id": "f19c857f",
   "metadata": {},
   "outputs": [
    {
     "data": {
      "text/plain": [
       "<QuerySet []>"
      ]
     },
     "execution_count": 15,
     "metadata": {},
     "output_type": "execute_result"
    }
   ],
   "source": [
    "# 위의 모든 것들 보다 더욱 선호 되는 방법은\n",
    "post.comment_set.all()\n",
    "\n",
    "# 이것이다. 이것은 근본적으로 reverse 접근시의 속성명이고\n",
    "# 모델명소문자_set이다.\n",
    "# models.py에 Comment라는 클래스가 있기에 이것에 대한 reverse 속성이 있고\n",
    "# 그것은 comment_set 이 되는 것이다."
   ]
  },
  {
   "cell_type": "code",
   "execution_count": 2,
   "id": "7fd5c87a",
   "metadata": {},
   "outputs": [],
   "source": [
    "from accounts.models import Profile"
   ]
  },
  {
   "cell_type": "code",
   "execution_count": 8,
   "id": "a52fdccd",
   "metadata": {},
   "outputs": [
    {
     "data": {
      "text/plain": [
       "<Profile: Profile object (1)>"
      ]
     },
     "execution_count": 8,
     "metadata": {},
     "output_type": "execute_result"
    }
   ],
   "source": [
    "Profile.objects.first()"
   ]
  },
  {
   "cell_type": "code",
   "execution_count": 9,
   "id": "3b3401f5",
   "metadata": {},
   "outputs": [
    {
     "data": {
      "text/plain": [
       "<User: admin>"
      ]
     },
     "execution_count": 9,
     "metadata": {},
     "output_type": "execute_result"
    }
   ],
   "source": [
    "profile = Profile.objects.first()\n",
    "profile.user"
   ]
  },
  {
   "cell_type": "code",
   "execution_count": null,
   "id": "388bab81",
   "metadata": {},
   "outputs": [],
   "source": []
  },
  {
   "cell_type": "code",
   "execution_count": 11,
   "id": "6fea7ca1",
   "metadata": {},
   "outputs": [
    {
     "data": {
      "text/plain": [
       "<Profile: Profile object (1)>"
      ]
     },
     "execution_count": 11,
     "metadata": {},
     "output_type": "execute_result"
    }
   ],
   "source": [
    "# from django.contrib.auth.models import User\n",
    "from django.contrib.auth import get_user_model\n",
    "\n",
    "User = get_user_model()\n",
    "\n",
    "user = User.objects.first()\n",
    "user.profile"
   ]
  },
  {
   "cell_type": "code",
   "execution_count": null,
   "id": "8d3cdaaa",
   "metadata": {},
   "outputs": [],
   "source": []
  }
 ],
 "metadata": {
  "kernelspec": {
   "display_name": "Python 3 (ipykernel)",
   "language": "python",
   "name": "python3"
  },
  "language_info": {
   "codemirror_mode": {
    "name": "ipython",
    "version": 3
   },
   "file_extension": ".py",
   "mimetype": "text/x-python",
   "name": "python",
   "nbconvert_exporter": "python",
   "pygments_lexer": "ipython3",
   "version": "3.8.15"
  }
 },
 "nbformat": 4,
 "nbformat_minor": 5
}
