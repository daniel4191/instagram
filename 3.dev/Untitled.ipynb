{
 "cells": [
  {
   "cell_type": "code",
   "execution_count": 5,
   "id": "d25310f2",
   "metadata": {},
   "outputs": [],
   "source": [
    "import os\n",
    "os.environ[\"DJANGO_SETTINGS_MODULE\"] = 'askcompany.settings'\n",
    "os.environ[\"DJANGO_ALLOW_ASYNC_UNSAFE\"] = 'true'\n",
    "\n",
    "import django\n",
    "django.setup()"
   ]
  },
  {
   "cell_type": "code",
   "execution_count": null,
   "id": "8d396f92",
   "metadata": {},
   "outputs": [],
   "source": []
  },
  {
   "cell_type": "code",
   "execution_count": 3,
   "id": "8bd7f508",
   "metadata": {},
   "outputs": [],
   "source": [
    "from instagram.models import Post"
   ]
  },
  {
   "cell_type": "code",
   "execution_count": 7,
   "id": "261c67cc",
   "metadata": {},
   "outputs": [],
   "source": [
    "qs = Post.objects.all()"
   ]
  },
  {
   "cell_type": "code",
   "execution_count": 8,
   "id": "44a548c0",
   "metadata": {},
   "outputs": [
    {
     "name": "stdout",
     "output_type": "stream",
     "text": [
      "<class 'django.db.models.query.QuerySet'>\n",
      "SELECT \"instagram_post\".\"id\", \"instagram_post\".\"message\", \"instagram_post\".\"photo\", \"instagram_post\".\"is_public\", \"instagram_post\".\"created_at\", \"instagram_post\".\"updated_at\" FROM \"instagram_post\"\n"
     ]
    }
   ],
   "source": [
    "print(type(qs))\n",
    "print(qs.query)"
   ]
  },
  {
   "cell_type": "code",
   "execution_count": 11,
   "id": "a23ff888",
   "metadata": {},
   "outputs": [
    {
     "name": "stdout",
     "output_type": "stream",
     "text": [
      "first message 2022-12-12 11:46:57.179055+00:00\n",
      "id: 1, message: first message 2022-12-12 11:46:57.179055+00:00\n",
      "second message 2022-12-12 11:47:03.775370+00:00\n",
      "id: 2, message: second message 2022-12-12 11:47:03.775370+00:00\n"
     ]
    }
   ],
   "source": [
    "for post in qs:\n",
    "    print(post.message, post.created_at)\n",
    "    print('id: {id}, message: {message} {created_at}'.format(**post.__dict__))"
   ]
  },
  {
   "cell_type": "code",
   "execution_count": null,
   "id": "b3a471df",
   "metadata": {},
   "outputs": [],
   "source": [
    "# models를 통한 조회\n",
    "models, shell에서 조회할때 (최소한에 내가 아는 선에서는)\n",
    "Post.objects.all()이라고 쓰이는 경우가 많다.\n",
    "Post라는 클래스가 가진 모든 데이터 값을 쿼리셋으로 조회하는 명령어다.\n",
    "\n",
    "Post.objects.all().filter()\n",
    "이렇게 하게되면 필터링을 하는 것인데\n",
    "()안의 인자는\n",
    "필드명__필드명에 관련된 오퍼레이션 = '필터링원하는글씨등'\n",
    "바로 위의 오퍼레이션에 관해서는 필드의 타입에 따라서도 쓰이는게 달라지기 때문에 공식문서를 참조하는 것이 좋다.\n"
   ]
  }
 ],
 "metadata": {
  "kernelspec": {
   "display_name": "Python 3 (ipykernel)",
   "language": "python",
   "name": "python3"
  },
  "language_info": {
   "codemirror_mode": {
    "name": "ipython",
    "version": 3
   },
   "file_extension": ".py",
   "mimetype": "text/x-python",
   "name": "python",
   "nbconvert_exporter": "python",
   "pygments_lexer": "ipython3",
   "version": "3.8.15"
  }
 },
 "nbformat": 4,
 "nbformat_minor": 5
}
